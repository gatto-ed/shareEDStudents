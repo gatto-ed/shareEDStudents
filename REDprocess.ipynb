{
 "cells": [
  {
   "cell_type": "markdown",
   "metadata": {},
   "source": [
    "<h1>Prepare your dataset for PETS2.0</h1>\n",
    "\n",
    "PETS 2.0 will take care of processing the electron diffraction data, finding the cell parameters, and extracting the hkl dataset that is required for structure solution software such as ShelXL. However, PETS 2.0 works with '.tif' files not '.mrc' fiels and requires an instruction files to provide a list of file names and some other information. The purpose of this script is to write the instruction file for PETS 2.0 and, if needed, to convert the '.mrc' files to the 16 bit '.tif' files.\n",
    "\n",
    "There are four main parts to this script:\n",
    "1. Import libraries and set working directory\n",
    "2. Write instruction file for PETS 2.0\n",
    "3. Read the header of the mrc file\n",
    "4. Drop spaces from file name\n",
    "5. Convert images to unsigned 16 bits tif\n",
    "\n",
    "Part 1 needs to be run after opening the python script as it loads the libraries used by the parts that follow and set some general settings for the appearance of plots.\n",
    "\n",
    "Part 2 will ask for the working directory and creates the instruction file for PETS 2.0. \n",
    "Part 3 and 4 are only needed if you wish to read all the file metadata ar remove spaces from a file name, respectively. \n",
    "Part 4 converts the .mrc files to a 16 bit tif that is readable by PETS 2.0 and has sufficient dynamic range for the peak finding routine.\n",
    "\n"
   ]
  },
  {
   "cell_type": "markdown",
   "metadata": {},
   "source": [
    "<h1>Import libraries and set working directory</h1>\n",
    "\n",
    "The code in the box below will import all needed python libraries. It only needs to be run once at the beginning of the session. To run, click anywhere in the code box and then click play. When the code finished to run, the gray brackets at the left of the box will display a number."
   ]
  },
  {
   "cell_type": "code",
   "execution_count": 1,
   "metadata": {},
   "outputs": [],
   "source": [
    "# Import Libraries\n",
    "#Import the libraries for the sripts. This import includes all the libraries needed for all the scripts in this document.\n",
    "import mrcfile\n",
    "import numpy as np\n",
    "import os\n",
    "import csv\n",
    "import matplotlib.pyplot as plt\n",
    "from PIL import Image\n",
    "\n",
    "#Set the default style for plots - make changes here if you want a different font or font size\n",
    "from matplotlib import rcParams\n",
    "rcParams['font.family'] = 'Arial'\n",
    "rcParams['font.size'] = 16"
   ]
  },
  {
   "cell_type": "markdown",
   "metadata": {},
   "source": [
    "The first step, after importing the libraries is to set the working directory where the microED files are stored by running the code in the box below:"
   ]
  },
  {
   "cell_type": "code",
   "execution_count": 2,
   "metadata": {},
   "outputs": [
    {
     "name": "stdin",
     "output_type": "stream",
     "text": [
      "Please enter the directory path:  C:\\Users\\debora_berti\\Documents\\epud_Joel_set1\\JA-OpADiol2-particle22\n"
     ]
    }
   ],
   "source": [
    "## Select Directory\n",
    "# Ask the user to input a directory path\n",
    "directory = input(\"Please enter the directory path: \")\n",
    "# Verify if the path is valid\n",
    "if os.path.isdir(directory):\n",
    "    os.chdir(directory)\n",
    "else:\n",
    "    print(\"Invalid directory. Please try again.\")\n"
   ]
  },
  {
   "cell_type": "markdown",
   "metadata": {},
   "source": [
    "Next, compile a list of file names, find the alpha angle of each file, and also find the resolution in terms of pixel size:"
   ]
  },
  {
   "cell_type": "markdown",
   "metadata": {
    "jp-MarkdownHeadingCollapsed": true
   },
   "source": [
    "<h1>Write instruction file for PETS 2.0</h1>\n",
    "Next, write the instruction file that PETS 2.0 uses to set up the processing session. This file contains a file name list, pixel resolution, electron wavelength, and other information relevant to processing. "
   ]
  },
  {
   "cell_type": "code",
   "execution_count": null,
   "metadata": {
    "scrolled": true
   },
   "outputs": [],
   "source": [
    "### Find Information \n",
    "#variable to hold the file names\n",
    "fcount = []\n",
    "name = []\n",
    "\n",
    "#######################\n",
    "\n",
    "#go through the files with the mrc extension and write their name into the fcount variable.\n",
    "for file in os.listdir(directory):\n",
    "    if file.endswith('.mrc'):\n",
    "        fcount.append(file)\n",
    "        name.append(os.path.splitext(os.path.basename(file))[0])\n",
    "\n",
    "#######################\n",
    "#Print one file name to verify that the script worked\n",
    "#print(fcount[0])\n",
    "#print(name[1])\n",
    " ######################\n",
    "#Read the alpha angle\n",
    "#variable to hold the alpha angle\n",
    "\n",
    "a = []\n",
    "\n",
    "#loop through the files in fcount, extract the alpha angle and write it in the variable a\n",
    "\n",
    "for fname in fcount:\n",
    "    mrc = mrcfile.open(fname)\n",
    "    head = mrc.indexed_extended_header\n",
    "    head.tofile('headerInfo.txt',',')\n",
    "    with open('headerInfo.txt', 'r') as file:\n",
    "        contents = file.read()\n",
    "        hdlist = contents.split(',')\n",
    "        a.append(hdlist[10][:8])\n",
    "        \n",
    "    mrc.close()\n",
    "print(a[0])\n",
    "\n",
    "mrc = mrcfile.open(fname)\n",
    "#############\n",
    "#Find the pixel size in the heaer\n",
    "\n",
    "PixelSize = \"The pixel dimensions along x, y, and z in reciprocal microns is: {}\"\n",
    "\n",
    "print(PixelSize.format(mrc.voxel_size))\n",
    "\n",
    "mrc.close()\n",
    "\n",
    "\n",
    "#####################################\n",
    "\n",
    "####Instruction File\n",
    "#Function to count the number of files with extension '.mrc' in the current directory:\n",
    "def count_files_by_extension(directory_path, extension):\n",
    "    \"\"\"Count the number of files with a specific extension.\"\"\"\n",
    "    return sum(1 for file in os.listdir(directory_path) \n",
    "               if file.endswith(extension) and os.path.isfile(os.path.join(directory_path, file)))\n",
    "########################\n",
    "#Count the total numbre of '.mrc' files in the directory\n",
    "tot_files = count_files_by_extension(directory, \".mrc\")\n",
    "tot = tot_files -1\n",
    "############\n",
    "\n",
    "#Open a file for writing:\n",
    "f = open(name[0] + \".pts\", \"a\")\n",
    "    \n",
    "f.write(\"lambda 0.0196\\n\")\n",
    "f.write(\"Aperpixel 0.001869\\n\")\n",
    "f.write(\"omega 5.0\\n\")\n",
    "f.write(\"phi 0.0\\n\")\n",
    "f.write(\"noiseparameters 3.5 38\\n\")\n",
    "f.write(\"reflectionsize 10\\n\")\n",
    "f.write(\"bin 2\\n\")\n",
    "f.write(\"imagelist\\n\")\n",
    "\n",
    "\n",
    "\n",
    "\n",
    "#Write the file name list and the alpha, beta angles\n",
    "#Create a counter variable\n",
    "j = 0\n",
    "\n",
    "for x in range(0,tot_files):\n",
    "    text = \"{}.tif {}   0.00\"\n",
    "    \n",
    "    f.write(text.format(name[x],a[j]) + \"\\n\")\n",
    "    j = j + 1\n",
    "\n",
    "f.write(\"endimagelist\\n\")\n",
    "f.write(\"################################################\\n\")\n",
    "f.write(\"#\tMEASUREMENT CONDITIONS\\n\")\n",
    "f.write(\"#  Start series = \t    -75 deg\\n\")\n",
    "f.write(\"#  Stop series = \t     70 deg\\n\")\n",
    "f.write(\"#  Tilt step = \t\t      0.5 deg\\n\")\n",
    "f.write(\"#  Camera Length = \t      430 mm\\n\")\n",
    "f.write(\"#  DP exposure = \t      500 ms\\n\")\n",
    "f.write(\"#  CL aperture = \t        50 um\\n\")\n",
    "f.write(\"#  SA aperture = \t        100 um\\n\")\n",
    "f.write(\"#  Spot Size = \t\t         6\\n\")\n",
    "f.write(\"#  GL =                         5 \\n\")\n",
    "f.write(\"#  Magnification = \t     11000\\n\")\n",
    "f.write(\"################################################\\n\")\n",
    "f.close()"
   ]
  },
  {
   "cell_type": "markdown",
   "metadata": {
    "jp-MarkdownHeadingCollapsed": true
   },
   "source": [
    "<h1> Read the header of the mrc file</h1>\n",
    "The next code snippet allows you to inspect all the information contained in the extended header of an mrc file in the working directory. Run this code if you wish to have more information on optics and acquisition parameters."
   ]
  },
  {
   "cell_type": "code",
   "execution_count": null,
   "metadata": {},
   "outputs": [],
   "source": [
    "##### Read Header \n",
    "# Ask the user to input the name of a file in the working directory to print its full extended header:\n",
    "fnameh = input(\"Please enter the file name: \")\n",
    "\n",
    "#Validate that the name entered refers to an existing file in the directory:\n",
    "\n",
    "if os.path.isfile(fnameh):\n",
    "    mrc2 = mrcfile.open(fnameh)\n",
    "    head2 = mrc2.indexed_extended_header\n",
    "    print(head2)\n",
    "else:\n",
    "    print(\"Invalid file name. Please try again.\")\n",
    "\n"
   ]
  },
  {
   "cell_type": "markdown",
   "metadata": {
    "jp-MarkdownHeadingCollapsed": true
   },
   "source": [
    "<h1> Drop spaces from file name </h1>\n",
    "PETS 2.0 does not accept file names containing spaces. Ifyou have spaces in the file names, you can run this code to remove them."
   ]
  },
  {
   "cell_type": "code",
   "execution_count": null,
   "metadata": {},
   "outputs": [],
   "source": [
    "###### Eliminate Spaces \n",
    "# Function to remove spaces from filenames\n",
    "def remove_spaces_in_filenames(directory):\n",
    "    try:\n",
    "        # Loop through all files in the directory\n",
    "        for filename in os.listdir(directory):\n",
    "            # Check if the filename contains spaces\n",
    "            if ' ' in filename:\n",
    "                # Replace spaces with no space (or you can use an underscore if preferred)\n",
    "                new_filename = filename.replace(' ', '')\n",
    "                old_file = os.path.join(directory, filename)\n",
    "                new_file = os.path.join(directory, new_filename)\n",
    "                # Rename the file\n",
    "                os.rename(old_file, new_file)\n",
    "                print(f'Renamed: {old_file} -> {new_file}')\n",
    "    except Exception as e:\n",
    "        print(f\"Error: {e}\")\n",
    "\n",
    "# Directory containing the files\n",
    "directory_path = \"C:/Users/debora_berti/Documents/epud_Joel_set1/My First Aggregate/Process_PETS\"\n",
    "\n",
    "# Call the function to remove spaces from filenames\n",
    "remove_spaces_in_filenames(directory_path)"
   ]
  },
  {
   "cell_type": "markdown",
   "metadata": {
    "jp-MarkdownHeadingCollapsed": true
   },
   "source": [
    "<h1> Convert images to unsigned 16 bits</h1>\n",
    "\n",
    "In some cases, you may need to convert the bit depth of your images to a signed 16 bits tif format which works best with PETS 2.0.\n",
    "\n",
    "The code below helps you by correctly handling the reduction in the number of intensity levels that is required to degrade from 32 bits to 16 bits. While 32 bits contains excessive information, 8 bits (256 levels of gray) may not be sufficient to describe the dynamic ranges from the intense direct beam to weak diffraction spots."
   ]
  },
  {
   "cell_type": "code",
   "execution_count": null,
   "metadata": {},
   "outputs": [],
   "source": [
    "####### Convert to Tif\n",
    "\n",
    "#Code to convert mrc images to an unsigned 16 bit tif\n",
    "\n",
    "\n",
    "\n",
    "#Open the mrc file and lad the data into a variable:\n",
    "for fid in fcount:\n",
    "    imgRaw = mrcfile.open(fid, permissive=True)\n",
    "    img = imgRaw.data.astype(np.float32)\n",
    "\n",
    "#Ensure tha image is within the 16 bit range for visualization, without this code the negative range of the grayscale will be clipped:\n",
    "\n",
    "   # min_val = img.min()\n",
    "   # if min_val < 0:\n",
    "   #     pos_img = img - min_val\n",
    "   # else:\n",
    "   #     pos_img = img\n",
    "        \n",
    "    #img = (-pos_img * 65535).astype(np.uint16)\n",
    "  \n",
    "    \n",
    "    \n",
    "    ## Alternative way to adjust the contrast to prevent clipping\n",
    "    min_val = img.min()\n",
    "    max_val = img.max()\n",
    "    \n",
    "    scaled_img = (img - min_val) / (max_val - min_val )\n",
    "    img = (scaled_img * 65536).astype(np.uint16)\n",
    "\n",
    "    imgRaw.close()\n",
    "    \n",
    "\n",
    "#Convert Numpy array to a PIL image then save it:\n",
    "    img = Image.fromarray(img)\n",
    "    img.save(os.path.splitext(os.path.basename(fid))[0] +'.tif', format = 'TIFF')\n",
    "\n",
    "\n"
   ]
  },
  {
   "cell_type": "markdown",
   "metadata": {},
   "source": [
    "<h1> The End</h1>\n",
    "That's all! You are ready to start your PETS 2.0 session."
   ]
  }
 ],
 "metadata": {
  "kernelspec": {
   "display_name": "Python 3 (ipykernel)",
   "language": "python",
   "name": "python3"
  },
  "language_info": {
   "codemirror_mode": {
    "name": "ipython",
    "version": 3
   },
   "file_extension": ".py",
   "mimetype": "text/x-python",
   "name": "python",
   "nbconvert_exporter": "python",
   "pygments_lexer": "ipython3",
   "version": "3.11.9"
  }
 },
 "nbformat": 4,
 "nbformat_minor": 4
}
